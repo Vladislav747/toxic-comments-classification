{
 "cells": [
  {
   "cell_type": "markdown",
   "id": "109cb6a2-3aa4-4090-9828-75d9e01bdbf0",
   "metadata": {},
   "source": [
    "## Содержание папок\n",
    "\n",
    "- `1_tree_model` - первичное обучение моделей основанных на деревьях + отчет\n",
    "- `2_preprocessig` - эксперименты с обработкой данных и удалением грамматических ошибок + отчет\n",
    "- `3_threasholds_and_nonlinear_models` - обучение всех основных линейных и нелинейных моделей ML с подбором порогов классификации + отчет\n",
    "- `4_Word2Vec` - эксперименты с обработкой данных для обучения в Word2Vec + отчет"
   ]
  },
  {
   "cell_type": "code",
   "execution_count": null,
   "id": "70f9fe68-e691-4f9d-afd7-e28457e7bbff",
   "metadata": {},
   "outputs": [],
   "source": []
  }
 ],
 "metadata": {
  "kernelspec": {
   "display_name": "Python 3 (ipykernel)",
   "language": "python",
   "name": "python3"
  },
  "language_info": {
   "codemirror_mode": {
    "name": "ipython",
    "version": 3
   },
   "file_extension": ".py",
   "mimetype": "text/x-python",
   "name": "python",
   "nbconvert_exporter": "python",
   "pygments_lexer": "ipython3",
   "version": "3.12.2"
  }
 },
 "nbformat": 4,
 "nbformat_minor": 5
}
